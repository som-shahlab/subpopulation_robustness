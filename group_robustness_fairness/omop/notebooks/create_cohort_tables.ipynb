{
 "cells": [
  {
   "cell_type": "code",
   "execution_count": null,
   "id": "demanding-architecture",
   "metadata": {},
   "outputs": [],
   "source": [
    "import numpy as np\n",
    "import pandas as pd\n",
    "import os\n",
    "import re\n",
    "from group_robustness_fairness.prediction_utils.pytorch_utils.metrics import StandardEvaluator"
   ]
  },
  {
   "cell_type": "code",
   "execution_count": null,
   "id": "built-thanks",
   "metadata": {},
   "outputs": [],
   "source": [
    "result_path = os.path.join(\"../tables\", \"cohort_tables\")\n",
    "os.makedirs(result_path, exist_ok=True)"
   ]
  },
  {
   "cell_type": "markdown",
   "id": "formal-trustee",
   "metadata": {},
   "source": [
    "#### STARR Admissions Cohort Table"
   ]
  },
  {
   "cell_type": "code",
   "execution_count": null,
   "id": "substantial-instrument",
   "metadata": {},
   "outputs": [],
   "source": [
    "data_paths = {\n",
    "    \"admissions\": \"/local-scratch/nigam/projects/spfohl/group_robustness_fairness/cohorts/admissions/starr_20210130\"\n",
    "}\n",
    "\n",
    "cohort_paths = {\n",
    "    key: os.path.join(value, \"cohort\", \"cohort_fold_1_5.parquet\")\n",
    "    for key, value in data_paths.items()\n",
    "}\n",
    "\n",
    "db_key = \"admissions\"\n",
    "cohort = pd.read_parquet(os.path.join(cohort_paths[db_key]))"
   ]
  },
  {
   "cell_type": "code",
   "execution_count": null,
   "id": "civic-catholic",
   "metadata": {},
   "outputs": [],
   "source": [
    "attributes = [\"gender_concept_name\", \"age_group\", \"race_eth\"]\n",
    "tasks = [\"hospital_mortality\", \"LOS_7\", \"readmission_30\"]"
   ]
  },
  {
   "cell_type": "code",
   "execution_count": null,
   "id": "russian-costume",
   "metadata": {},
   "outputs": [],
   "source": [
    "cohort_df_long = cohort.melt(\n",
    "    id_vars=[\"person_id\"] + attributes,\n",
    "    value_vars=tasks,\n",
    "    var_name=\"task\",\n",
    "    value_name=\"labels\",\n",
    ").melt(\n",
    "    id_vars=[\"person_id\", \"task\", \"labels\"],\n",
    "    value_vars=attributes,\n",
    "    var_name=\"attribute\",\n",
    "    value_name=\"group\",\n",
    ")"
   ]
  },
  {
   "cell_type": "code",
   "execution_count": null,
   "id": "dress-heading",
   "metadata": {},
   "outputs": [],
   "source": [
    "cohort_statistics_df = (\n",
    "    cohort_df_long.groupby([\"task\", \"attribute\", \"group\"])\n",
    "    .agg(\n",
    "        prevalence=(\"labels\", \"mean\"),\n",
    "    )\n",
    "    .reset_index()\n",
    "    .groupby(\"attribute\")\n",
    "    .apply(lambda x: x.pivot_table(index=\"group\", columns=\"task\", values=\"prevalence\"))\n",
    "    .reset_index()\n",
    ")\n",
    "\n",
    "group_size_df = (\n",
    "    cohort_df_long.groupby([\"task\", \"attribute\", \"group\"])\n",
    "    .agg(size=(\"labels\", lambda x: x.shape[0]))\n",
    "    .reset_index()\n",
    "    .drop(columns=\"task\")\n",
    "    .drop_duplicates()\n",
    ")\n",
    "\n",
    "cohort_statistics_df = cohort_statistics_df.merge(group_size_df)\n",
    "cohort_statistics_df = cohort_statistics_df.set_index([\"attribute\", \"group\"])[\n",
    "    [\"size\"] + tasks\n",
    "]"
   ]
  },
  {
   "cell_type": "code",
   "execution_count": null,
   "id": "inclusive-better",
   "metadata": {},
   "outputs": [],
   "source": [
    "result_df = (\n",
    "    cohort_statistics_df.reset_index()\n",
    "    .query('~(group == \"No matching concept\" & attribute == \"gender_concept_name\")')\n",
    "    .drop(columns=\"attribute\")\n",
    "    .set_index([\"group\"])\n",
    "    .rename(\n",
    "        columns={\n",
    "            \"size\": \"Count\",\n",
    "            \"hospital_mortality\": \"Hospital Mortality\",\n",
    "            \"LOS_7\": \"Prolonged Length of Stay\",\n",
    "            \"readmission_30\": \"30-Day Readmission\",\n",
    "        },\n",
    "        index={\n",
    "            \"Black or African American\": \"Black\",\n",
    "            \"Hispanic or Latino\": \"Hispanic\",\n",
    "            \"FEMALE\": \"Female\",\n",
    "            \"MALE\": \"Male\",\n",
    "        },\n",
    "    )\n",
    "    .assign(Count=lambda x: x.Count.apply(\"{:,}\".format))\n",
    ")"
   ]
  },
  {
   "cell_type": "code",
   "execution_count": null,
   "id": "extra-architect",
   "metadata": {},
   "outputs": [],
   "source": [
    "result_df"
   ]
  },
  {
   "cell_type": "code",
   "execution_count": null,
   "id": "affiliated-cliff",
   "metadata": {},
   "outputs": [],
   "source": [
    "caption_string = \"Cohort characteristics for patients drawn from STARR. Data are grouped on the basis of age, sex, and the race and ethnicity category. Shown, for each group, is the number of patients extracted and the incidence of hospital mortality, prolonged length of stay, and 30-day readmission\"\n",
    "table_str = (\n",
    "    result_df.to_latex(\n",
    "        buf=None,\n",
    "        float_format=\"%.3g\",\n",
    "        index_names=False,\n",
    "        index=True,\n",
    "        label=\"tab:cohort_starr_admissions\",\n",
    "        position=\"!t\",\n",
    "        caption=caption_string,\n",
    "    )\n",
    "    .replace(\"75-91\", \"75-90\")\n",
    "    .replace(\"toprule\\n{}\", \"toprule\\n Group\")\n",
    "    .replace(\n",
    "        \"toprule\\n Group\",\n",
    "        \"toprule\\n{} & {} & \\multicolumn{3}{c}{Outcome Incidence} \\\\\\\\\\n\\\\cmidrule{3-5}\\nGroup\",\n",
    "    )\n",
    ")\n",
    "\n",
    "if isinstance(table_str, tuple):\n",
    "    table_str = table_str[0]\n",
    "\n",
    "table_str = re.sub(pattern=\"\\[(?=\\d)\", repl=r\"\\\\lbrack\", string=table_str)\n",
    "\n",
    "with open(os.path.join(result_path, \"admissions_starr.txt\"), \"w\") as fp:\n",
    "    fp.write(table_str)"
   ]
  }
 ],
 "metadata": {
  "kernelspec": {
   "display_name": "Python 3",
   "language": "python",
   "name": "python3"
  },
  "language_info": {
   "codemirror_mode": {
    "name": "ipython",
    "version": 3
   },
   "file_extension": ".py",
   "mimetype": "text/x-python",
   "name": "python",
   "nbconvert_exporter": "python",
   "pygments_lexer": "ipython3",
   "version": "3.7.11"
  }
 },
 "nbformat": 4,
 "nbformat_minor": 5
}
