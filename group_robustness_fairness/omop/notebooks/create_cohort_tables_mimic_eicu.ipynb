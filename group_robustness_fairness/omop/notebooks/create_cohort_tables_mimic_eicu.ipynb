{
 "cells": [
  {
   "cell_type": "code",
   "execution_count": null,
   "id": "imposed-extraction",
   "metadata": {},
   "outputs": [],
   "source": [
    "import numpy as np\n",
    "import pandas as pd\n",
    "import os\n",
    "import pickle\n",
    "import re"
   ]
  },
  {
   "cell_type": "code",
   "execution_count": null,
   "id": "piano-battlefield",
   "metadata": {},
   "outputs": [],
   "source": [
    "result_path = '../tables/cohort_tables'"
   ]
  },
  {
   "cell_type": "code",
   "execution_count": null,
   "id": "perceived-creativity",
   "metadata": {},
   "outputs": [],
   "source": [
    "with open('../scratch/cohort_stats.pkl', 'rb') as fp:\n",
    "    data = pickle.load(fp)"
   ]
  },
  {
   "cell_type": "code",
   "execution_count": null,
   "id": "blind-parker",
   "metadata": {},
   "outputs": [],
   "source": [
    "list(data['mimic_inhospital_mortality_target'].index)"
   ]
  },
  {
   "cell_type": "code",
   "execution_count": null,
   "id": "authorized-luther",
   "metadata": {},
   "outputs": [],
   "source": [
    "df_long = pd.concat(\n",
    "    [\n",
    "        (\n",
    "            data['mimic_inhospital_mortality_target']\n",
    "            .rename_axis('group')\n",
    "            .reset_index()\n",
    "            .assign(tag = 'mimic')\n",
    "        ),        \n",
    "        (\n",
    "            data['eicu_inhospital_mortality_target']\n",
    "            .rename_axis('group')\n",
    "            .reset_index()\n",
    "            .assign(tag = 'eicu')\n",
    "        )\n",
    "    ]\n",
    ")\n",
    "df_long"
   ]
  },
  {
   "cell_type": "code",
   "execution_count": null,
   "id": "viral-hawaii",
   "metadata": {},
   "outputs": [],
   "source": [
    "cohort_statistics_df = (\n",
    "    df_long\n",
    "    .rename(columns={'Outcome Incidence': 'In-hospital mortality'})\n",
    "    .pivot(index='group', columns='tag', values=['In-hospital mortality', 'Count'])\n",
    "    .reorder_levels([1, 0], axis=1)\n",
    "    .loc[list(data['mimic_inhospital_mortality_target'].index)]\n",
    ")\n",
    "cohort_statistics_df\n",
    "cohort_statistics_df = cohort_statistics_df[\n",
    "    [\n",
    "        ('mimic', 'Count'), \n",
    "        ('mimic', 'In-hospital mortality'), \n",
    "        ('eicu', 'Count'), \n",
    "        ('eicu', 'In-hospital mortality')\n",
    "    ]\n",
    "]\n",
    "cohort_statistics_df"
   ]
  },
  {
   "cell_type": "code",
   "execution_count": null,
   "id": "revised-services",
   "metadata": {},
   "outputs": [],
   "source": [
    "db_key='mimic_eicu'\n",
    "table_str = cohort_statistics_df.to_latex(\n",
    "    buf=None,\n",
    "#     float_format=\"%.3g\",\n",
    "    index_names=False,\n",
    "    index=True,\n",
    "    label=f\"tab:cohort_{db_key}\",\n",
    "    position=\"!t\",\n",
    "    caption=\"A caption\",\n",
    ").replace(\"toprule\\n{}\", \"toprule\\n Group\")\n",
    "\n",
    "if isinstance(table_str, tuple):\n",
    "    table_str = table_str[0]\n",
    "\n",
    "table_str = re.sub(pattern=\"\\[(?=\\d)\", repl=r\"\\\\lbrack\", string=table_str)\n",
    "\n",
    "with open(os.path.join(result_path, f\"{db_key}.txt\"), \"w\") as fp:\n",
    "    fp.write(table_str)"
   ]
  }
 ],
 "metadata": {
  "kernelspec": {
   "display_name": "Python [conda env:py_env] *",
   "language": "python",
   "name": "conda-env-py_env-py"
  },
  "language_info": {
   "codemirror_mode": {
    "name": "ipython",
    "version": 3
   },
   "file_extension": ".py",
   "mimetype": "text/x-python",
   "name": "python",
   "nbconvert_exporter": "python",
   "pygments_lexer": "ipython3",
   "version": "3.7.9"
  }
 },
 "nbformat": 4,
 "nbformat_minor": 5
}
